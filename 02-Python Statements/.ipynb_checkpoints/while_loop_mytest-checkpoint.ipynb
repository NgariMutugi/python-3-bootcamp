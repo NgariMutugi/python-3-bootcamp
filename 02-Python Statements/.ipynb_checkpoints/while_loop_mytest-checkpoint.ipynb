{
 "cells": [
  {
   "cell_type": "code",
   "execution_count": 2,
   "metadata": {},
   "outputs": [
    {
     "name": "stdout",
     "output_type": "stream",
     "text": [
      "the value of x is still 0\n",
      " x is still less than 10, adding 1 to x\n",
      "the value of x is still 1\n",
      " x is still less than 10, adding 1 to x\n",
      "the value of x is still 2\n",
      " x is still less than 10, adding 1 to x\n",
      "the value of x is still 3\n",
      " x is still less than 10, adding 1 to x\n",
      "the value of x is still 4\n",
      " x is still less than 10, adding 1 to x\n",
      "the value of x is still 5\n",
      " x is still less than 10, adding 1 to x\n",
      "the value of x is still 6\n",
      " x is still less than 10, adding 1 to x\n",
      "the value of x is still 7\n",
      " x is still less than 10, adding 1 to x\n",
      "the value of x is still 8\n",
      " x is still less than 10, adding 1 to x\n",
      "the value of x is still 9\n",
      " x is still less than 10, adding 1 to x\n",
      "All done!\n"
     ]
    }
   ],
   "source": [
    "x = 0\n",
    "\n",
    "while x < 10:\n",
    "    print(f'the value of x is still {x}')\n",
    "    print(' x is still less than 10, adding 1 to x')\n",
    "    x+=1\n",
    "else:\n",
    "    print('All done!')"
   ]
  },
  {
   "cell_type": "code",
   "execution_count": 4,
   "metadata": {},
   "outputs": [
    {
     "name": "stdout",
     "output_type": "stream",
     "text": [
      "x is currently:  0\n",
      "x is still less than 10, adding 1 to x\n",
      "continuing...\n",
      "x is currently:  1\n",
      "x is still less than 10, adding 1 to x\n",
      "continuing...\n",
      "x is currently:  2\n",
      "x is still less than 10, adding 1 to x\n",
      "x is still equal to 3\n",
      "x is currently:  3\n",
      "x is still less than 10, adding 1 to x\n",
      "continuing...\n",
      "x is currently:  4\n",
      "x is still less than 10, adding 1 to x\n",
      "continuing...\n",
      "x is currently:  5\n",
      "x is still less than 10, adding 1 to x\n",
      "continuing...\n",
      "x is currently:  6\n",
      "x is still less than 10, adding 1 to x\n",
      "continuing...\n",
      "x is currently:  7\n",
      "x is still less than 10, adding 1 to x\n",
      "continuing...\n",
      "x is currently:  8\n",
      "x is still less than 10, adding 1 to x\n",
      "continuing...\n",
      "x is currently:  9\n",
      "x is still less than 10, adding 1 to x\n",
      "continuing...\n"
     ]
    }
   ],
   "source": [
    "x = 0\n",
    "\n",
    "while  x < 10:\n",
    "    print('x is currently: ', x)\n",
    "    print('x is still less than 10, adding 1 to x')\n",
    "    x+=1\n",
    "    if x == 3:\n",
    "        print('x is still equal to 3')\n",
    "    else:\n",
    "        print('continuing...')\n",
    "    continue"
   ]
  },
  {
   "cell_type": "code",
   "execution_count": 5,
   "metadata": {},
   "outputs": [
    {
     "name": "stdout",
     "output_type": "stream",
     "text": [
      "x is currently:  0\n",
      "x is still less than 10, adding 1 to x\n",
      "continuing...\n",
      "x is currently:  1\n",
      "x is still less than 10, adding 1 to x\n",
      "continuing...\n",
      "x is currently:  2\n",
      "x is still less than 10, adding 1 to x\n",
      "x is still equal to 3\n"
     ]
    }
   ],
   "source": [
    "# use of break\n",
    "\n",
    "x = 0\n",
    "\n",
    "while  x < 10:\n",
    "    print('x is currently: ', x)\n",
    "    print('x is still less than 10, adding 1 to x')\n",
    "    x+=1\n",
    "    if x == 3:\n",
    "        print('x is still equal to 3')\n",
    "        break\n",
    "    else:\n",
    "        print('continuing...')\n",
    "    continue"
   ]
  },
  {
   "cell_type": "code",
   "execution_count": 6,
   "metadata": {},
   "outputs": [
    {
     "name": "stdout",
     "output_type": "stream",
     "text": [
      "The value of x is: 0\n",
      "The value of x is: 1\n",
      "The value of x is: 2\n",
      "The value of x is: 3\n",
      "The value of x is: 4\n"
     ]
    }
   ],
   "source": [
    "x = 0\n",
    "\n",
    "while x < 5:\n",
    "    print(f'The value of x is: {x}')\n",
    "    x += 1"
   ]
  },
  {
   "cell_type": "code",
   "execution_count": 9,
   "metadata": {},
   "outputs": [
    {
     "name": "stdout",
     "output_type": "stream",
     "text": [
      "we shall revisit: \n"
     ]
    }
   ],
   "source": [
    " # use  of pass\n",
    "x =[1,2,3,4]\n",
    "\n",
    "for y in x:\n",
    "    #comment that will result to error without pass\n",
    "    pass\n",
    "print('we shall revisit: ')"
   ]
  },
  {
   "cell_type": "code",
   "execution_count": 11,
   "metadata": {},
   "outputs": [
    {
     "name": "stdout",
     "output_type": "stream",
     "text": [
      "e\n",
      "s\n",
      "t\n",
      "s\n"
     ]
    }
   ],
   "source": [
    "# use of continue\n",
    "person ='eustus'\n",
    "\n",
    "for letter in person:\n",
    "    if letter == 'u':\n",
    "        continue\n",
    "    print(letter)"
   ]
  },
  {
   "cell_type": "code",
   "execution_count": 12,
   "metadata": {},
   "outputs": [
    {
     "name": "stdout",
     "output_type": "stream",
     "text": [
      "e\n"
     ]
    }
   ],
   "source": [
    "# use of break\n",
    "person ='eustus'\n",
    "\n",
    "for letter in person:\n",
    "    if letter == 'u':\n",
    "        break\n",
    "    print(letter)"
   ]
  },
  {
   "cell_type": "code",
   "execution_count": 3,
   "metadata": {},
   "outputs": [
    {
     "name": "stdout",
     "output_type": "stream",
     "text": [
      "0\n",
      "1\n",
      "2\n"
     ]
    }
   ],
   "source": [
    " # use of break in while\n",
    "x = 0\n",
    "\n",
    "while x < 5:\n",
    "    if x == 3:\n",
    "        break\n",
    "    print(x)\n",
    "    x += 1"
   ]
  },
  {
   "cell_type": "code",
   "execution_count": null,
   "metadata": {},
   "outputs": [],
   "source": []
  }
 ],
 "metadata": {
  "kernelspec": {
   "display_name": "Python 3",
   "language": "python",
   "name": "python3"
  },
  "language_info": {
   "codemirror_mode": {
    "name": "ipython",
    "version": 3
   },
   "file_extension": ".py",
   "mimetype": "text/x-python",
   "name": "python",
   "nbconvert_exporter": "python",
   "pygments_lexer": "ipython3",
   "version": "3.6.5"
  }
 },
 "nbformat": 4,
 "nbformat_minor": 2
}
