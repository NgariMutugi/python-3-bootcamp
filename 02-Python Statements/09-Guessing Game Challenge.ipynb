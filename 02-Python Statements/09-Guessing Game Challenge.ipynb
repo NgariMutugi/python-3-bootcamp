{
 "cells": [
  {
   "cell_type": "markdown",
   "metadata": {},
   "source": [
    "# Guessing Game Challenge\n",
    "\n",
    "Let's use `while` loops to create a guessing game.\n",
    "\n",
    "The Challenge:\n",
    "\n",
    "Write a program that picks a random integer from 1 to 100, and has players guess the number. The rules are:\n",
    "\n",
    "1. If a player's guess is less than 1 or greater than 100, say \"# Guessing Game Challenge\n",
    "\n",
    "Let's use `while` loops to create a guessing game.\n",
    "\n",
    "The Challenge:\n",
    "\n",
    "Write a program that picks a random integer from 1 to 100, and has players guess the number. The rules are:\n",
    "\n",
    "1. If a player's guess is less than 1 or greater than 100, say \"OUT OF BOUNDS\"\n",
    "2. On a player's first turn, if their guess is\n",
    " * within 10 of the number, return \"WARM!\"\n",
    " * further than 10 away from the number, return \"COLD!\"\n",
    "3. On all subsequent turns, if a guess is \n",
    " * closer to the number than the previous guess return \"WARMER!\"\n",
    " * farther from the number than the previous guess, return \"COLDER!\"\n",
    "4. When the player's guess equals the number, tell them they've guessed correctly *and* how many guesses it took!\n",
    "\n",
    "You can try this from scratch, or follow the steps outlined below. A separate Solution notebook has been provided. Good luck!\"\n",
    "2. On a player's first turn, if their guess is\n",
    " * within 10 of the number, return \"WARM!\"\n",
    " * further than 10 away from the number, return \"COLD!\"\n",
    "3. On all subsequent turns, if a guess is \n",
    " * closer to the number than the previous guess return \"WARMER!\"\n",
    " * farther from the number than the previous guess, return \"COLDER!\"\n",
    "4. When the player's guess equals the number, tell them they've guessed correctly *and* how many guesses it took!\n",
    "\n",
    "You can try this from scratch, or follow the steps outlined below. A separate Solution notebook has been provided. Good luck!\n"
   ]
  },
  {
   "cell_type": "markdown",
   "metadata": {},
   "source": [
    "#### First, pick a random integer from 1 to 100 using the random module and assign it to a variable\n",
    "\n",
    "Note: `random.randint(a,b)` returns a random integer in range `[a, b]`, including both end points."
   ]
  },
  {
   "cell_type": "code",
   "execution_count": null,
   "metadata": {},
   "outputs": [],
   "source": [
    "# importing randint\n",
    "from random import randint\n",
    "\n",
    "# assigning random interger to variable\n",
    "\n",
    "house = randint(1,100)\n",
    "print(house)"
   ]
  },
  {
   "cell_type": "markdown",
   "metadata": {},
   "source": [
    "#### Next, print an introduction to the game and explain the rules"
   ]
  },
  {
   "cell_type": "code",
   "execution_count": null,
   "metadata": {},
   "outputs": [],
   "source": [
    "print('Welcome to Number Guessing game')\n",
    "print('Pick a Number 1 to 100 to place bet')\n",
    "print('Results to WARM! if your bet is with 10 numbers')\n",
    "print('Results to COLD! if your bet is NOT with 10 numbers')\n",
    "print('Results to WARMER! if your bet is CLOSER than your previous bet')\n",
    "print('Results to COLDER! if your bet is NOT CLOSER than your previous bet')\n",
    "print('Results to BINGO! if your bet is CORRECT')\n",
    "    "
   ]
  },
  {
   "cell_type": "markdown",
   "metadata": {},
   "source": [
    "#### Create a list to store guesses\n",
    "\n",
    "\n",
    "Hint: zero is a good placeholder value. It's useful because it evaluates to \"False\""
   ]
  },
  {
   "cell_type": "code",
   "execution_count": null,
   "metadata": {},
   "outputs": [],
   "source": [
    "# Hint: zero is a good placeholder value. It's useful because it evaluates to \"False\"\n",
    "bets = [0]"
   ]
  },
  {
   "cell_type": "markdown",
   "metadata": {},
   "source": [
    "#### Write a `while` loop that asks for a valid guess. Test it a few times to make sure it works."
   ]
  },
  {
   "cell_type": "code",
   "execution_count": null,
   "metadata": {},
   "outputs": [],
   "source": [
    "# a while loop that asks for a valid guess. Test it a few times to make sure it works\n",
    "while True:\n",
    "    \n",
    "    bet = int(input('Enter a number 1 to 100 as your bet:\\ntry you Luck:) '))\n",
    "        \n",
    "    if bet  < 1 or bet > 100:\n",
    "        print('Out of Bounds!')\n",
    "    break\n",
    "    pass"
   ]
  },
  {
   "cell_type": "markdown",
   "metadata": {},
   "source": [
    "#### Write a `while` loop that compares the player's guess to our number. If the player guesses correctly, break from the loop. Otherwise, tell the player if they're warmer or colder, and continue asking for guesses.\n",
    "\n",
    "Some hints:\n",
    "* it may help to sketch out all possible combinations on paper first!\n",
    "* you can use the `abs()` function to find the positive difference between two numbers\n",
    "* if you append all new guesses to the list, then the previous guess is given as `guesses[-2]`"
   ]
  },
  {
   "cell_type": "code",
   "execution_count": 1,
   "metadata": {},
   "outputs": [
    {
     "name": "stdout",
     "output_type": "stream",
     "text": [
      "Welcome to Number Guessing game\n",
      "Pick a Number 1 to 100 to place bet\n",
      "Results to WARM! if your bet is with 10 numbers\n",
      "Results to COLD! if your bet is NOT with 10 numbers\n",
      "Results to WARMER! if your bet is CLOSER than your previous bet\n",
      "Results to COLDER! if your bet is NOT CLOSER than your previous bet\n",
      "Results to BINGO! if your bet is CORRECT\n",
      "3 This is for educational purposes\n",
      "Enter a number 1 to 100 as your bet:\n",
      "try you Luck:) 1\n",
      "WARM!\n",
      "Enter a number 1 to 100 as your bet:\n",
      "try you Luck:) 2\n",
      "WARMER!\n",
      "Enter a number 1 to 100 as your bet:\n",
      "try you Luck:) 3\n",
      "BINGO! YOU WON!!!\n"
     ]
    }
   ],
   "source": [
    "# importing randint\n",
    "from random import randint\n",
    "\n",
    "# assigning random interger to variable\n",
    "\n",
    "house = randint(1,100)\n",
    "\n",
    "# introduction to game\n",
    "\n",
    "print('Welcome to Number Guessing game')\n",
    "print('Pick a Number 1 to 100 to place bet')\n",
    "print('Results to WARM! if your bet is with 10 numbers')\n",
    "print('Results to COLD! if your bet is NOT with 10 numbers')\n",
    "print('Results to WARMER! if your bet is CLOSER than your previous bet')\n",
    "print('Results to COLDER! if your bet is NOT CLOSER than your previous bet')\n",
    "print('Results to BINGO! if your bet is CORRECT')\n",
    "\n",
    "# Hint: zero is a good placeholder value. It's useful because it evaluates to \"False\"\n",
    "bets = [0]\n",
    "print(f'{house} This is for educational purposes')\n",
    "while True:\n",
    "    \n",
    "    bet = int(input('Enter a number 1 to 100 as your bet:\\ntry you Luck:) '))\n",
    "    \n",
    "    if bet < 1 or bet > 100:\n",
    "        print('Out of Bounds!')\n",
    "        continue\n",
    "    \n",
    "    # here we compare the player's bet to the house bet\n",
    "    if bet == house:\n",
    "        print('BINGO! YOU WON!!!')\n",
    "        break\n",
    "        \n",
    "    # if guess is incorrect, add guess to the list\n",
    "    bets.append(bet)\n",
    "    \n",
    "    # bets[-2]==0 results to false which brings us to the second option\n",
    "    \n",
    "    if bets[-2]:\n",
    "        if abs(house-bet) < abs(house-bets[-2]):\n",
    "            print('WARMER!')\n",
    "        else:\n",
    "            print('COLDER!')\n",
    "   \n",
    "    else:\n",
    "        if abs(house-bet) <= 10:\n",
    "            print('WARM!')\n",
    "        else:\n",
    "            print('COLD!')\n",
    "            "
   ]
  },
  {
   "cell_type": "markdown",
   "metadata": {},
   "source": [
    "#### That's it! You've just programmed your first game!\n",
    "\n",
    "In the next section we'll learn how to turn some of these repetitive actions into *functions* that can be called whenever we need them."
   ]
  },
  {
   "cell_type": "markdown",
   "metadata": {},
   "source": [
    "### Good Job!"
   ]
  }
 ],
 "metadata": {
  "kernelspec": {
   "display_name": "Python 3",
   "language": "python",
   "name": "python3"
  },
  "language_info": {
   "codemirror_mode": {
    "name": "ipython",
    "version": 3
   },
   "file_extension": ".py",
   "mimetype": "text/x-python",
   "name": "python",
   "nbconvert_exporter": "python",
   "pygments_lexer": "ipython3",
   "version": "3.6.5"
  }
 },
 "nbformat": 4,
 "nbformat_minor": 2
}
